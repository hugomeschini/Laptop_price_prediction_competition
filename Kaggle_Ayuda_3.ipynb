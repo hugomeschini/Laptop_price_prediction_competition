{
 "cells": [
  {
   "cell_type": "markdown",
   "metadata": {},
   "source": [
    "#### Aquí encontrarás todo lo que necesitas saber: https://www.kaggle.com/t/ab8726f0cfc84544abbae69a6be88071"
   ]
  },
  {
   "cell_type": "markdown",
   "metadata": {},
   "source": [
    "## Librerias"
   ]
  },
  {
   "cell_type": "code",
   "execution_count": 3,
   "metadata": {},
   "outputs": [],
   "source": [
    "import pandas as pd\n",
    "\n",
    "import urllib.request\n",
    "from PIL import Image\n",
    "\n",
    "from sklearn.linear_model import LinearRegression\n",
    "from sklearn.ensemble import RandomForestRegressor\n",
    "from sklearn.model_selection import train_test_split\n",
    "from sklearn.metrics import mean_absolute_error, mean_squared_error, mean_absolute_percentage_error\n",
    "from sklearn.model_selection import RepeatedStratifiedKFold, RepeatedKFold, KFold\n",
    "import seaborn as sns\n",
    "import matplotlib.pyplot as plt"
   ]
  },
  {
   "cell_type": "markdown",
   "metadata": {},
   "source": [
    "## Data"
   ]
  },
  {
   "cell_type": "code",
   "execution_count": 4,
   "metadata": {},
   "outputs": [],
   "source": [
    "### Para que funcione necesitas bajarte los archivos de datos de Kaggle \n",
    "train = pd.read_csv(\"train.csv\")"
   ]
  },
  {
   "cell_type": "markdown",
   "metadata": {},
   "source": [
    "## Data exploration"
   ]
  },
  {
   "cell_type": "code",
   "execution_count": 5,
   "metadata": {},
   "outputs": [
    {
     "name": "stdout",
     "output_type": "stream",
     "text": [
      "<class 'pandas.core.frame.DataFrame'>\n",
      "RangeIndex: 912 entries, 0 to 911\n",
      "Data columns (total 13 columns):\n",
      " #   Column            Non-Null Count  Dtype  \n",
      "---  ------            --------------  -----  \n",
      " 0   id                912 non-null    int64  \n",
      " 1   Company           912 non-null    object \n",
      " 2   Product           912 non-null    object \n",
      " 3   TypeName          912 non-null    object \n",
      " 4   Inches            912 non-null    float64\n",
      " 5   ScreenResolution  912 non-null    object \n",
      " 6   Cpu               912 non-null    object \n",
      " 7   Ram               912 non-null    object \n",
      " 8   Memory            912 non-null    object \n",
      " 9   Gpu               912 non-null    object \n",
      " 10  OpSys             912 non-null    object \n",
      " 11  Weight            912 non-null    object \n",
      " 12  Price_euros       912 non-null    float64\n",
      "dtypes: float64(2), int64(1), object(10)\n",
      "memory usage: 92.8+ KB\n"
     ]
    }
   ],
   "source": [
    "train.info()"
   ]
  },
  {
   "cell_type": "code",
   "execution_count": 6,
   "metadata": {},
   "outputs": [],
   "source": [
    "train['Weight'] = train['Weight'].str.replace('kg','')"
   ]
  },
  {
   "cell_type": "code",
   "execution_count": 150,
   "metadata": {},
   "outputs": [],
   "source": [
    "#train.drop(columns=['Product', 'TypeName', 'Weight'], inplace=True)"
   ]
  },
  {
   "cell_type": "code",
   "execution_count": 7,
   "metadata": {},
   "outputs": [],
   "source": [
    "train['Ram'] = train['Ram'].str.replace('GB','')"
   ]
  },
  {
   "cell_type": "code",
   "execution_count": 8,
   "metadata": {},
   "outputs": [
    {
     "data": {
      "text/plain": [
       "array(['8', '6', '4', '16', '24', '12', '64', '32', '2'], dtype=object)"
      ]
     },
     "execution_count": 8,
     "metadata": {},
     "output_type": "execute_result"
    }
   ],
   "source": [
    "train['Ram'].unique()"
   ]
  },
  {
   "cell_type": "code",
   "execution_count": 9,
   "metadata": {},
   "outputs": [
    {
     "data": {
      "text/plain": [
       "id                  0\n",
       "Company             0\n",
       "Product             0\n",
       "TypeName            0\n",
       "Inches              0\n",
       "ScreenResolution    0\n",
       "Cpu                 0\n",
       "Ram                 0\n",
       "Memory              0\n",
       "Gpu                 0\n",
       "OpSys               0\n",
       "Weight              0\n",
       "Price_euros         0\n",
       "dtype: int64"
      ]
     },
     "execution_count": 9,
     "metadata": {},
     "output_type": "execute_result"
    }
   ],
   "source": [
    "train.isnull().sum()"
   ]
  },
  {
   "cell_type": "code",
   "execution_count": 10,
   "metadata": {},
   "outputs": [],
   "source": [
    "train['Ram'] = train['Ram'].astype('int32')\n",
    "train['Weight'] = train['Weight'].astype('float32')\n"
   ]
  },
  {
   "cell_type": "code",
   "execution_count": 11,
   "metadata": {},
   "outputs": [
    {
     "name": "stdout",
     "output_type": "stream",
     "text": [
      "<class 'pandas.core.frame.DataFrame'>\n",
      "RangeIndex: 912 entries, 0 to 911\n",
      "Data columns (total 13 columns):\n",
      " #   Column            Non-Null Count  Dtype  \n",
      "---  ------            --------------  -----  \n",
      " 0   id                912 non-null    int64  \n",
      " 1   Company           912 non-null    object \n",
      " 2   Product           912 non-null    object \n",
      " 3   TypeName          912 non-null    object \n",
      " 4   Inches            912 non-null    float64\n",
      " 5   ScreenResolution  912 non-null    object \n",
      " 6   Cpu               912 non-null    object \n",
      " 7   Ram               912 non-null    int32  \n",
      " 8   Memory            912 non-null    object \n",
      " 9   Gpu               912 non-null    object \n",
      " 10  OpSys             912 non-null    object \n",
      " 11  Weight            912 non-null    float32\n",
      " 12  Price_euros       912 non-null    float64\n",
      "dtypes: float32(1), float64(2), int32(1), int64(1), object(8)\n",
      "memory usage: 85.6+ KB\n"
     ]
    }
   ],
   "source": [
    "train.info()"
   ]
  },
  {
   "cell_type": "code",
   "execution_count": 12,
   "metadata": {},
   "outputs": [],
   "source": [
    "train['Memory'] = train['Memory'].str.replace(\"TB HDD\",\"\")\n",
    "train['Memory'] = train['Memory'].str.replace(\"GB SSD\",\"\")\n",
    "train['Memory'] = train['Memory'].str.replace(\"GB HDD\",\"\")\n",
    "train['Memory'] = train['Memory'].str.replace(\"GB Flash Storage\",\"\")\n",
    "train['Memory'] = train['Memory'].str.replace(\"TB Hybrid\",\"\")\n",
    "train['Memory'] = train['Memory'].str.replace(\"GB Hybrid\",\"\")\n",
    "train['Memory'] = train['Memory'].str.replace(\"TB SSD\",\"\")\n"
   ]
  },
  {
   "cell_type": "code",
   "execution_count": 13,
   "metadata": {},
   "outputs": [
    {
     "data": {
      "text/plain": [
       "256           309\n",
       "1             158\n",
       "512            89\n",
       "500            86\n",
       "128 +  1       67\n",
       "128            49\n",
       "256 +  1       49\n",
       "32             32\n",
       "2              12\n",
       "64             11\n",
       "1.0             9\n",
       "16              9\n",
       "512 +  1        8\n",
       "256 +  2        6\n",
       "180             4\n",
       "1 +  1          3\n",
       "512 +  2        3\n",
       "128 +  2        2\n",
       "64 +  1         1\n",
       "512 +  1.0      1\n",
       "508             1\n",
       "512 +  256      1\n",
       "256 +  500      1\n",
       "8               1\n",
       "Name: Memory, dtype: int64"
      ]
     },
     "execution_count": 13,
     "metadata": {},
     "output_type": "execute_result"
    }
   ],
   "source": [
    "train['Memory'].value_counts()"
   ]
  },
  {
   "cell_type": "code",
   "execution_count": 15,
   "metadata": {},
   "outputs": [],
   "source": [
    "train['Memory'] = train['Memory'].str.replace('128 +  1','128', regex=False)\n",
    "train['Memory'] = train['Memory'].str.replace(\"256 +  1\",\"256\", regex=False)\n",
    "train['Memory'] = train['Memory'].str.replace(\"512 +  1\",\"8\", regex=False)\n",
    "train['Memory'] = train['Memory'].str.replace(\"256 +  2\",\"256\", regex=False)\n",
    "train['Memory'] = train['Memory'].str.replace(\"1 +  1\",\"1\", regex=False)\n",
    "train['Memory'] = train['Memory'].str.replace(\"512 +  2\",\"512\", regex=False)\n",
    "train['Memory'] = train['Memory'].str.replace(\"128 +  2\",\"128\", regex=False)\n",
    "train['Memory'] = train['Memory'].str.replace(\"64 +  1\",\"64\", regex=False)\n",
    "train['Memory'] = train['Memory'].str.replace(\"512 +  1.0\",\"512\", regex=False)\n",
    "train['Memory'] = train['Memory'].str.replace(\"512 +  256\",\"512\", regex=False)\n",
    "train['Memory'] = train['Memory'].str.replace(\"256 +  500\",\"512\", regex=False)\n",
    "train['Memory'] = train['Memory'].str.replace(\"51256\",\"512\", regex=False)\n",
    "train['Memory'] = train['Memory'].str.replace(\"1.0\",\"1\", regex=False)\n",
    "train['Memory'] = train['Memory'].str.replace(\"8.0\",\"8\", regex=False)"
   ]
  },
  {
   "cell_type": "code",
   "execution_count": 16,
   "metadata": {},
   "outputs": [
    {
     "data": {
      "text/plain": [
       "array(['1', '256', '128', '32', '500', '2', '180', '512', '8', '16', '64',\n",
       "       '508'], dtype=object)"
      ]
     },
     "execution_count": 16,
     "metadata": {},
     "output_type": "execute_result"
    }
   ],
   "source": [
    "train['Memory'].unique()"
   ]
  },
  {
   "cell_type": "code",
   "execution_count": 17,
   "metadata": {},
   "outputs": [],
   "source": [
    "train['Memory'] = train['Memory'].astype('int32')"
   ]
  },
  {
   "cell_type": "code",
   "execution_count": 18,
   "metadata": {},
   "outputs": [
    {
     "name": "stdout",
     "output_type": "stream",
     "text": [
      "<class 'pandas.core.frame.DataFrame'>\n",
      "RangeIndex: 912 entries, 0 to 911\n",
      "Data columns (total 13 columns):\n",
      " #   Column            Non-Null Count  Dtype  \n",
      "---  ------            --------------  -----  \n",
      " 0   id                912 non-null    int64  \n",
      " 1   Company           912 non-null    object \n",
      " 2   Product           912 non-null    object \n",
      " 3   TypeName          912 non-null    object \n",
      " 4   Inches            912 non-null    float64\n",
      " 5   ScreenResolution  912 non-null    object \n",
      " 6   Cpu               912 non-null    object \n",
      " 7   Ram               912 non-null    int32  \n",
      " 8   Memory            912 non-null    int32  \n",
      " 9   Gpu               912 non-null    object \n",
      " 10  OpSys             912 non-null    object \n",
      " 11  Weight            912 non-null    float32\n",
      " 12  Price_euros       912 non-null    float64\n",
      "dtypes: float32(1), float64(2), int32(2), int64(1), object(7)\n",
      "memory usage: 82.1+ KB\n"
     ]
    }
   ],
   "source": [
    "train.info()"
   ]
  },
  {
   "cell_type": "markdown",
   "metadata": {},
   "source": [
    "## Data processing"
   ]
  },
  {
   "cell_type": "code",
   "execution_count": 19,
   "metadata": {},
   "outputs": [
    {
     "data": {
      "text/html": [
       "<div>\n",
       "<style scoped>\n",
       "    .dataframe tbody tr th:only-of-type {\n",
       "        vertical-align: middle;\n",
       "    }\n",
       "\n",
       "    .dataframe tbody tr th {\n",
       "        vertical-align: top;\n",
       "    }\n",
       "\n",
       "    .dataframe thead th {\n",
       "        text-align: right;\n",
       "    }\n",
       "</style>\n",
       "<table border=\"1\" class=\"dataframe\">\n",
       "  <thead>\n",
       "    <tr style=\"text-align: right;\">\n",
       "      <th></th>\n",
       "      <th>id</th>\n",
       "      <th>Inches</th>\n",
       "      <th>Ram</th>\n",
       "      <th>Memory</th>\n",
       "      <th>Weight</th>\n",
       "      <th>Price_euros</th>\n",
       "    </tr>\n",
       "  </thead>\n",
       "  <tbody>\n",
       "    <tr>\n",
       "      <th>count</th>\n",
       "      <td>912.000000</td>\n",
       "      <td>912.000000</td>\n",
       "      <td>912.000000</td>\n",
       "      <td>912.000000</td>\n",
       "      <td>912.000000</td>\n",
       "      <td>912.000000</td>\n",
       "    </tr>\n",
       "    <tr>\n",
       "      <th>mean</th>\n",
       "      <td>653.076754</td>\n",
       "      <td>15.003289</td>\n",
       "      <td>8.475877</td>\n",
       "      <td>222.427632</td>\n",
       "      <td>2.040033</td>\n",
       "      <td>1138.022478</td>\n",
       "    </tr>\n",
       "    <tr>\n",
       "      <th>std</th>\n",
       "      <td>378.906322</td>\n",
       "      <td>1.437009</td>\n",
       "      <td>5.117872</td>\n",
       "      <td>173.054065</td>\n",
       "      <td>0.680480</td>\n",
       "      <td>715.342718</td>\n",
       "    </tr>\n",
       "    <tr>\n",
       "      <th>min</th>\n",
       "      <td>0.000000</td>\n",
       "      <td>10.100000</td>\n",
       "      <td>2.000000</td>\n",
       "      <td>1.000000</td>\n",
       "      <td>0.690000</td>\n",
       "      <td>174.000000</td>\n",
       "    </tr>\n",
       "    <tr>\n",
       "      <th>25%</th>\n",
       "      <td>317.750000</td>\n",
       "      <td>14.000000</td>\n",
       "      <td>4.000000</td>\n",
       "      <td>32.000000</td>\n",
       "      <td>1.490000</td>\n",
       "      <td>615.500000</td>\n",
       "    </tr>\n",
       "    <tr>\n",
       "      <th>50%</th>\n",
       "      <td>657.500000</td>\n",
       "      <td>15.600000</td>\n",
       "      <td>8.000000</td>\n",
       "      <td>256.000000</td>\n",
       "      <td>2.040000</td>\n",
       "      <td>989.000000</td>\n",
       "    </tr>\n",
       "    <tr>\n",
       "      <th>75%</th>\n",
       "      <td>980.500000</td>\n",
       "      <td>15.600000</td>\n",
       "      <td>8.000000</td>\n",
       "      <td>256.000000</td>\n",
       "      <td>2.300000</td>\n",
       "      <td>1493.350000</td>\n",
       "    </tr>\n",
       "    <tr>\n",
       "      <th>max</th>\n",
       "      <td>1302.000000</td>\n",
       "      <td>17.300000</td>\n",
       "      <td>64.000000</td>\n",
       "      <td>512.000000</td>\n",
       "      <td>4.600000</td>\n",
       "      <td>6099.000000</td>\n",
       "    </tr>\n",
       "  </tbody>\n",
       "</table>\n",
       "</div>"
      ],
      "text/plain": [
       "                id      Inches         Ram      Memory      Weight  \\\n",
       "count   912.000000  912.000000  912.000000  912.000000  912.000000   \n",
       "mean    653.076754   15.003289    8.475877  222.427632    2.040033   \n",
       "std     378.906322    1.437009    5.117872  173.054065    0.680480   \n",
       "min       0.000000   10.100000    2.000000    1.000000    0.690000   \n",
       "25%     317.750000   14.000000    4.000000   32.000000    1.490000   \n",
       "50%     657.500000   15.600000    8.000000  256.000000    2.040000   \n",
       "75%     980.500000   15.600000    8.000000  256.000000    2.300000   \n",
       "max    1302.000000   17.300000   64.000000  512.000000    4.600000   \n",
       "\n",
       "       Price_euros  \n",
       "count   912.000000  \n",
       "mean   1138.022478  \n",
       "std     715.342718  \n",
       "min     174.000000  \n",
       "25%     615.500000  \n",
       "50%     989.000000  \n",
       "75%    1493.350000  \n",
       "max    6099.000000  "
      ]
     },
     "execution_count": 19,
     "metadata": {},
     "output_type": "execute_result"
    }
   ],
   "source": [
    "train.describe()"
   ]
  },
  {
   "cell_type": "code",
   "execution_count": 20,
   "metadata": {},
   "outputs": [
    {
     "data": {
      "text/plain": [
       "array(['Linux', 'Windows 10', 'Windows 10 S', 'No OS', 'Windows 7',\n",
       "       'Chrome OS', 'macOS', 'Mac OS X'], dtype=object)"
      ]
     },
     "execution_count": 20,
     "metadata": {},
     "output_type": "execute_result"
    }
   ],
   "source": [
    "train['OpSys'].unique()"
   ]
  },
  {
   "cell_type": "code",
   "execution_count": 22,
   "metadata": {},
   "outputs": [],
   "source": [
    "mymap = {'Linux':1, 'Windows 10':2, 'Windows 10 S':3, 'No OS':4, 'Windows 7':5,\n",
    "       'Chrome OS':6, 'macOS':7, 'Mac OS X':8}"
   ]
  },
  {
   "cell_type": "code",
   "execution_count": 23,
   "metadata": {},
   "outputs": [],
   "source": [
    "train2 = train.applymap(lambda s: mymap.get(s) if s in mymap else s)"
   ]
  },
  {
   "cell_type": "code",
   "execution_count": 84,
   "metadata": {},
   "outputs": [
    {
     "data": {
      "text/plain": [
       "2    758\n",
       "1     42\n",
       "4     40\n",
       "5     32\n",
       "6     18\n",
       "7      9\n",
       "8      7\n",
       "3      6\n",
       "Name: OpSys, dtype: int64"
      ]
     },
     "execution_count": 84,
     "metadata": {},
     "output_type": "execute_result"
    }
   ],
   "source": [
    "train2['OpSys'].value_counts()"
   ]
  },
  {
   "cell_type": "code",
   "execution_count": 26,
   "metadata": {},
   "outputs": [
    {
     "name": "stderr",
     "output_type": "stream",
     "text": [
      "C:\\Users\\hugom\\AppData\\Local\\Programs\\Python\\Python37\\lib\\site-packages\\seaborn\\distributions.py:2619: FutureWarning: `distplot` is a deprecated function and will be removed in a future version. Please adapt your code to use either `displot` (a figure-level function with similar flexibility) or `histplot` (an axes-level function for histograms).\n",
      "  warnings.warn(msg, FutureWarning)\n"
     ]
    },
    {
     "data": {
      "image/png": "[encoded data removed]",
      "text/plain": [
       "<Figure size 432x288 with 1 Axes>"
      ]
     },
     "metadata": {},
     "output_type": "display_data"
    }
   ],
   "source": [
    "sns.distplot(train2['Price_euros'])\n",
    "sns.set_style('whitegrid')\n",
    "plt.show();"
   ]
  },
  {
   "cell_type": "code",
   "execution_count": 27,
   "metadata": {},
   "outputs": [
    {
     "data": {
      "image/png": "[encoded data removed]",
      "text/plain": [
       "<Figure size 720x720 with 2 Axes>"
      ]
     },
     "metadata": {},
     "output_type": "display_data"
    }
   ],
   "source": [
    "plt.figure(figsize=(10,10))\n",
    "sns.heatmap(train2.corr(), annot=True);"
   ]
  },
  {
   "cell_type": "code",
   "execution_count": 167,
   "metadata": {},
   "outputs": [],
   "source": [
    "inches = train['Inches']\n",
    "price = train['Price_euros']\n",
    "ram = train['Ram']\n",
    "screen = train['ScreenResolution']\n",
    "type = train['TypeName']\n"
   ]
  },
  {
   "cell_type": "code",
   "execution_count": 168,
   "metadata": {},
   "outputs": [
    {
     "name": "stderr",
     "output_type": "stream",
     "text": [
      "C:\\Users\\hugom\\AppData\\Local\\Programs\\Python\\Python37\\lib\\site-packages\\seaborn\\_decorators.py:43: FutureWarning: Pass the following variables as keyword args: x, y. From version 0.12, the only valid positional argument will be `data`, and passing other arguments without an explicit keyword will result in an error or misinterpretation.\n",
      "  FutureWarning\n"
     ]
    },
    {
     "data": {
      "image/png": "[encoded data removed]",
      "text/plain": [
       "<Figure size 432x288 with 1 Axes>"
      ]
     },
     "metadata": {},
     "output_type": "display_data"
    }
   ],
   "source": [
    "sns.scatterplot(inches,price);\n"
   ]
  },
  {
   "cell_type": "code",
   "execution_count": 169,
   "metadata": {},
   "outputs": [
    {
     "name": "stderr",
     "output_type": "stream",
     "text": [
      "C:\\Users\\hugom\\AppData\\Local\\Programs\\Python\\Python37\\lib\\site-packages\\seaborn\\_decorators.py:43: FutureWarning: Pass the following variables as keyword args: x, y. From version 0.12, the only valid positional argument will be `data`, and passing other arguments without an explicit keyword will result in an error or misinterpretation.\n",
      "  FutureWarning\n"
     ]
    },
    {
     "data": {
      "image/png": "[encoded data removed]",
      "text/plain": [
       "<Figure size 432x288 with 1 Axes>"
      ]
     },
     "metadata": {},
     "output_type": "display_data"
    }
   ],
   "source": [
    "sns.scatterplot(ram,price);\n"
   ]
  },
  {
   "cell_type": "code",
   "execution_count": 170,
   "metadata": {},
   "outputs": [
    {
     "data": {
      "text/plain": [
       "array([ 8,  6,  4, 16, 24, 12, 64, 32,  2])"
      ]
     },
     "execution_count": 170,
     "metadata": {},
     "output_type": "execute_result"
    }
   ],
   "source": [
    "train['Ram'].unique()"
   ]
  },
  {
   "cell_type": "code",
   "execution_count": 171,
   "metadata": {},
   "outputs": [
    {
     "name": "stderr",
     "output_type": "stream",
     "text": [
      "C:\\Users\\hugom\\AppData\\Local\\Programs\\Python\\Python37\\lib\\site-packages\\seaborn\\_decorators.py:43: FutureWarning: Pass the following variables as keyword args: x, y. From version 0.12, the only valid positional argument will be `data`, and passing other arguments without an explicit keyword will result in an error or misinterpretation.\n",
      "  FutureWarning\n"
     ]
    },
    {
     "data": {
      "image/png": "[encoded data removed]",
      "text/plain": [
       "<Figure size 432x288 with 1 Axes>"
      ]
     },
     "metadata": {},
     "output_type": "display_data"
    }
   ],
   "source": [
    "sns.scatterplot(type,price);"
   ]
  },
  {
   "cell_type": "code",
   "execution_count": 172,
   "metadata": {},
   "outputs": [
    {
     "name": "stderr",
     "output_type": "stream",
     "text": [
      "C:\\Users\\hugom\\AppData\\Local\\Programs\\Python\\Python37\\lib\\site-packages\\seaborn\\_decorators.py:43: FutureWarning: Pass the following variables as keyword args: x, y. From version 0.12, the only valid positional argument will be `data`, and passing other arguments without an explicit keyword will result in an error or misinterpretation.\n",
      "  FutureWarning\n"
     ]
    },
    {
     "data": {
      "image/png": "[encoded data removed]",
      "text/plain": [
       "<Figure size 720x720 with 1 Axes>"
      ]
     },
     "metadata": {},
     "output_type": "display_data"
    }
   ],
   "source": [
    "plt.figure(figsize=(10,10))\n",
    "sns.scatterplot(screen,price);"
   ]
  },
  {
   "cell_type": "code",
   "execution_count": 173,
   "metadata": {},
   "outputs": [
    {
     "data": {
      "text/plain": [
       "array(['Full HD 1920x1080', 'IPS Panel Full HD / Touchscreen 1920x1080',\n",
       "       '1366x768', 'IPS Panel Full HD 1920x1080', 'Touchscreen 2256x1504',\n",
       "       '1600x900', '4K Ultra HD 3840x2160',\n",
       "       'Touchscreen / Quad HD+ 3200x1800',\n",
       "       'Full HD / Touchscreen 1920x1080',\n",
       "       '4K Ultra HD / Touchscreen 3840x2160',\n",
       "       'IPS Panel 4K Ultra HD / Touchscreen 3840x2160',\n",
       "       'IPS Panel Quad HD+ 2560x1440', 'IPS Panel Touchscreen 2560x1440',\n",
       "       'IPS Panel Quad HD+ 3200x1800', '1440x900', '2560x1440',\n",
       "       'Touchscreen 1366x768', 'Quad HD+ / Touchscreen 3200x1800',\n",
       "       'IPS Panel Touchscreen / 4K Ultra HD 3840x2160', '1920x1080',\n",
       "       'Touchscreen / Full HD 1920x1080',\n",
       "       'IPS Panel Retina Display 2304x1440', 'Touchscreen 2560x1440',\n",
       "       'IPS Panel Touchscreen 1920x1200', 'IPS Panel 2560x1440',\n",
       "       'IPS Panel 4K Ultra HD 3840x2160', 'IPS Panel Full HD 2160x1440',\n",
       "       'IPS Panel Retina Display 2880x1800', 'IPS Panel 1366x768',\n",
       "       'IPS Panel Quad HD+ / Touchscreen 3200x1800',\n",
       "       'IPS Panel Full HD 1366x768', 'Touchscreen 2400x1600',\n",
       "       'IPS Panel Retina Display 2560x1600', 'Quad HD+ 3200x1800',\n",
       "       'IPS Panel Full HD 2560x1440', 'IPS Panel Full HD 1920x1200',\n",
       "       'IPS Panel Touchscreen 1366x768'], dtype=object)"
      ]
     },
     "execution_count": 173,
     "metadata": {},
     "output_type": "execute_result"
    }
   ],
   "source": [
    "train['ScreenResolution'].unique()"
   ]
  },
  {
   "cell_type": "code",
   "execution_count": 174,
   "metadata": {},
   "outputs": [
    {
     "data": {
      "text/plain": [
       "Full HD 1920x1080                                356\n",
       "1366x768                                         196\n",
       "IPS Panel Full HD 1920x1080                      151\n",
       "IPS Panel Full HD / Touchscreen 1920x1080         43\n",
       "Full HD / Touchscreen 1920x1080                   31\n",
       "1600x900                                          18\n",
       "Quad HD+ / Touchscreen 3200x1800                  13\n",
       "Touchscreen 1366x768                              11\n",
       "IPS Panel 4K Ultra HD / Touchscreen 3840x2160      8\n",
       "IPS Panel 4K Ultra HD 3840x2160                    7\n",
       "4K Ultra HD / Touchscreen 3840x2160                7\n",
       "Touchscreen 2560x1440                              6\n",
       "IPS Panel Touchscreen 2560x1440                    5\n",
       "Touchscreen 2256x1504                              5\n",
       "IPS Panel Retina Display 2304x1440                 5\n",
       "IPS Panel Retina Display 2880x1800                 4\n",
       "4K Ultra HD 3840x2160                              4\n",
       "IPS Panel 1366x768                                 4\n",
       "IPS Panel 2560x1440                                4\n",
       "IPS Panel Quad HD+ 2560x1440                       3\n",
       "1440x900                                           3\n",
       "1920x1080                                          3\n",
       "IPS Panel Quad HD+ / Touchscreen 3200x1800         3\n",
       "IPS Panel Retina Display 2560x1600                 3\n",
       "Touchscreen 2400x1600                              2\n",
       "Quad HD+ 3200x1800                                 2\n",
       "IPS Panel Touchscreen / 4K Ultra HD 3840x2160      2\n",
       "IPS Panel Touchscreen 1920x1200                    2\n",
       "2560x1440                                          2\n",
       "IPS Panel Quad HD+ 3200x1800                       2\n",
       "IPS Panel Full HD 2160x1440                        1\n",
       "Touchscreen / Full HD 1920x1080                    1\n",
       "IPS Panel Full HD 1366x768                         1\n",
       "Touchscreen / Quad HD+ 3200x1800                   1\n",
       "IPS Panel Full HD 2560x1440                        1\n",
       "IPS Panel Full HD 1920x1200                        1\n",
       "IPS Panel Touchscreen 1366x768                     1\n",
       "Name: ScreenResolution, dtype: int64"
      ]
     },
     "execution_count": 174,
     "metadata": {},
     "output_type": "execute_result"
    }
   ],
   "source": [
    "train['ScreenResolution'].value_counts()"
   ]
  },
  {
   "cell_type": "code",
   "execution_count": 175,
   "metadata": {},
   "outputs": [
    {
     "data": {
      "text/plain": [
       "array([ 8, 13,  8,  0,  0,  8, 15, 34,  8,  0,  0,  0,  8, 15,  8,  0,  2,\n",
       "        0, 15,  8, 15,  8, 15,  0, 15,  0,  0,  8,  0, 15,  6,  8,  8,  8,\n",
       "       13,  8, 15,  8,  8,  0,  0,  8,  8, 13, 32, 13, 15,  0, 13,  8,  0,\n",
       "        0,  8,  8,  8,  7,  8, 13,  5,  8, 11,  8,  8, 15, 20,  8,  0, 11,\n",
       "        8,  0, 15,  0, 15,  0,  0, 34,  8, 13,  8, 15, 15, 15,  2,  0,  8,\n",
       "        8,  8, 13, 34,  8,  8,  0,  0,  0,  8,  8,  8,  8, 13, 13, 15,  8,\n",
       "        7, 15,  0,  8, 15,  0, 15,  2, 15,  0,  8,  0,  8, 15,  8,  8,  0,\n",
       "        8, 15,  8,  8,  8, 15, 15,  8,  0,  0,  8,  8,  0,  0,  0,  8,  8,\n",
       "        8, 15,  0, 15,  0, 11,  8,  8,  8,  8,  0,  8, 28, 15,  0,  8, 13,\n",
       "        2, 15,  0,  8, 15,  8,  0, 21,  7,  8,  6,  8,  8,  8,  0,  0, 15,\n",
       "        0,  8, 13,  8, 15,  8,  8, 15,  8,  8,  0,  8,  1,  0,  8,  8,  0,\n",
       "        0, 15, 15,  0,  8,  5,  8,  0,  4, 15, 33, 15,  0, 13,  2,  8, 15,\n",
       "        8,  8,  0,  8, 15,  8, 13, 15,  8,  2,  8, 29,  0,  8,  8, 25,  8,\n",
       "        0,  0, 15,  8,  8,  8,  0,  8,  8, 29,  8,  0, 13,  0,  7,  8, 13,\n",
       "        8,  0,  8,  0,  0,  8, 15,  0,  0,  8, 15, 28,  8,  0,  8, 15, 15,\n",
       "        8,  7,  0, 13,  8,  3,  0,  8,  8,  8,  8,  8, 31, 29,  2,  8,  8,\n",
       "        0,  1,  8, 22, 15,  8, 15, 15,  8,  8, 15,  0,  8,  8,  8, 15,  8,\n",
       "        8, 15,  8,  8,  8,  0, 36,  8,  7,  8, 29,  8,  8, 25,  8, 15, 34,\n",
       "        8,  8,  8,  8,  2, 11,  0,  8,  8,  8,  8,  8,  8, 15,  8,  8, 29,\n",
       "       15,  0, 13, 27, 13,  8, 15,  7,  8,  0,  8,  8,  8,  8,  8,  8, 15,\n",
       "       10,  0,  8,  0,  8, 10,  8,  5, 13, 15, 15,  0, 15,  8,  0,  0,  8,\n",
       "       12, 13, 15,  8, 15,  8,  8, 15,  7, 15,  8,  2,  8,  8,  7, 15,  8,\n",
       "        8, 36,  0,  8, 17, 24,  8,  8,  8, 15,  8,  8, 13,  2, 15, 15,  0,\n",
       "       13,  8,  7, 29,  8,  8,  8,  8, 15,  0, 13,  8,  8,  8,  5, 15,  8,\n",
       "        0,  0, 11,  0,  0,  7,  2,  8,  8, 13,  9,  8,  0,  7,  7,  0,  0,\n",
       "        0,  0,  8,  8, 20,  0,  7,  8,  8,  8,  8, 15,  0, 15,  8,  0,  6,\n",
       "       21, 15,  8, 15,  8, 15, 13,  8,  0,  0,  8, 11,  0, 15,  8,  8,  8,\n",
       "       19, 27,  8, 13, 13,  8,  8, 33,  8, 15,  8, 24,  3,  8,  8, 13,  8,\n",
       "       14,  7, 15, 15,  8,  9,  8,  8, 13,  8, 20,  0, 24,  8,  8, 22,  8,\n",
       "       33, 10,  2,  0,  0,  0,  8, 15,  0,  7, 15, 15,  7, 15,  2,  8,  0,\n",
       "        8,  0,  8,  0,  7,  8,  0,  0, 22,  0,  8,  8,  8, 15,  7,  8,  0,\n",
       "       13,  8,  4,  8,  0,  8,  8,  8, 24,  8,  8, 13,  8,  0,  0,  7,  8,\n",
       "        0, 15,  0,  8,  0, 29,  8,  0,  7, 15, 15,  5,  0,  8, 15, 15,  0,\n",
       "        0,  0, 36, 15,  8, 15, 33,  7, 15, 15,  0,  8,  8,  8,  0, 35,  8,\n",
       "       13,  0,  0,  8,  0,  0, 15,  8,  8,  2,  0, 33, 33, 15, 29,  8, 15,\n",
       "       13,  2, 33, 15,  8, 35, 15,  8,  8,  8,  8, 13,  0, 29,  8,  8, 15,\n",
       "        0, 15,  8,  8,  8,  8,  8,  8,  8,  8, 15,  9, 15, 15,  0, 15, 23,\n",
       "        8,  8,  8,  0,  0, 19, 13, 15,  0,  0, 15,  8,  8,  0,  0, 12,  0,\n",
       "        8, 33, 36,  0, 19, 13, 15, 15, 15,  8, 33,  0,  8,  8,  8,  8, 15,\n",
       "        8,  0, 15,  0, 13,  8,  0,  0,  8,  8,  8,  7, 15,  0,  0, 15,  0,\n",
       "        0,  8, 15, 15,  0, 12, 15, 15, 15, 15,  8,  0,  8,  0,  0, 15,  0,\n",
       "        8, 10,  8,  8, 15,  8,  8,  8,  0, 12,  0,  8, 13, 15, 15,  8,  0,\n",
       "       29, 15,  0, 15,  8,  8,  8,  8,  0,  8,  0,  8,  8, 15, 28,  8, 15,\n",
       "       22,  0,  0,  8,  8,  8,  8, 13,  8,  5,  8,  0,  8,  8,  8, 23,  0,\n",
       "       12, 30,  8,  8,  0,  8,  8,  7,  0, 12,  7,  8, 15, 15, 13,  0,  8,\n",
       "        0, 15,  8,  8,  8,  8,  8, 15,  8,  0,  8,  8, 18,  8, 15, 16,  0,\n",
       "        8,  8,  8,  0, 15,  8,  0, 36,  0,  8, 15,  8,  8, 29, 11,  8,  8,\n",
       "       15,  0, 33,  0,  8, 15, 11, 13, 15,  8,  8,  8,  3,  8,  0,  8,  8,\n",
       "        0,  8, 28,  0,  8,  7,  7, 30, 15, 33, 26,  0, 28,  0, 36, 15,  8,\n",
       "       29,  8,  8,  0,  8,  8,  0, 29, 15, 15,  7,  8,  7,  2,  8,  7,  8,\n",
       "        8,  8,  5,  8,  0,  0,  6,  8,  0,  0, 15, 15,  8, 15,  8,  8,  0,\n",
       "        0,  0,  8, 23,  2, 15,  8, 15,  0,  0,  8,  0,  8,  0,  0,  1, 15,\n",
       "        0,  8,  8,  8,  9, 15,  8,  8, 13,  7,  0,  8, 15,  8, 15,  8, 12,\n",
       "       34, 15,  0, 15,  8,  0,  0, 22,  0, 15,  2])"
      ]
     },
     "execution_count": 175,
     "metadata": {},
     "output_type": "execute_result"
    }
   ],
   "source": [
    "from sklearn.preprocessing import LabelEncoder\n",
    "le = LabelEncoder()\n",
    "le.fit(train['ScreenResolution'])\n",
    "le.transform(train['ScreenResolution'])"
   ]
  },
  {
   "cell_type": "markdown",
   "metadata": {},
   "source": [
    "-----------------------------------------------------------------------------------------------------------------"
   ]
  },
  {
   "cell_type": "markdown",
   "metadata": {},
   "source": [
    "## Pasos que si o si debéis realizar para poder participar en la competición:"
   ]
  },
  {
   "cell_type": "markdown",
   "metadata": {},
   "source": [
    "### 1. Definir X e y"
   ]
  },
  {
   "cell_type": "code",
   "execution_count": 28,
   "metadata": {},
   "outputs": [
    {
     "data": {
      "text/plain": [
       "Index(['id', 'Company', 'Product', 'TypeName', 'Inches', 'ScreenResolution',\n",
       "       'Cpu', 'Ram', 'Memory', 'Gpu', 'OpSys', 'Weight', 'Price_euros'],\n",
       "      dtype='object')"
      ]
     },
     "execution_count": 28,
     "metadata": {},
     "output_type": "execute_result"
    }
   ],
   "source": [
    "train2.columns"
   ]
  },
  {
   "cell_type": "code",
   "execution_count": 29,
   "metadata": {},
   "outputs": [
    {
     "data": {
      "text/plain": [
       "(912, 5)"
      ]
     },
     "execution_count": 29,
     "metadata": {},
     "output_type": "execute_result"
    }
   ],
   "source": [
    "X = train2[['Ram', 'Inches', 'Weight', 'Memory', 'OpSys']]\n",
    "y = train2['Price_euros'].copy()\n",
    "X.shape"
   ]
  },
  {
   "cell_type": "code",
   "execution_count": 30,
   "metadata": {},
   "outputs": [
    {
     "data": {
      "text/plain": [
       "(912,)"
      ]
     },
     "execution_count": 30,
     "metadata": {},
     "output_type": "execute_result"
    }
   ],
   "source": [
    "y.shape"
   ]
  },
  {
   "cell_type": "markdown",
   "metadata": {},
   "source": [
    "### 2. Dividir X_train, X_test, y_train, y_test"
   ]
  },
  {
   "cell_type": "code",
   "execution_count": 31,
   "metadata": {},
   "outputs": [],
   "source": [
    "X_train, X_test, y_train, y_test = train_test_split(X, y, test_size = 0.20, random_state = 42)"
   ]
  },
  {
   "cell_type": "code",
   "execution_count": 32,
   "metadata": {},
   "outputs": [
    {
     "data": {
      "text/html": [
       "<div>\n",
       "<style scoped>\n",
       "    .dataframe tbody tr th:only-of-type {\n",
       "        vertical-align: middle;\n",
       "    }\n",
       "\n",
       "    .dataframe tbody tr th {\n",
       "        vertical-align: top;\n",
       "    }\n",
       "\n",
       "    .dataframe thead th {\n",
       "        text-align: right;\n",
       "    }\n",
       "</style>\n",
       "<table border=\"1\" class=\"dataframe\">\n",
       "  <thead>\n",
       "    <tr style=\"text-align: right;\">\n",
       "      <th></th>\n",
       "      <th>Ram</th>\n",
       "      <th>Inches</th>\n",
       "      <th>Weight</th>\n",
       "      <th>Memory</th>\n",
       "      <th>OpSys</th>\n",
       "    </tr>\n",
       "  </thead>\n",
       "  <tbody>\n",
       "    <tr>\n",
       "      <th>25</th>\n",
       "      <td>8</td>\n",
       "      <td>14.0</td>\n",
       "      <td>1.60</td>\n",
       "      <td>256</td>\n",
       "      <td>2</td>\n",
       "    </tr>\n",
       "    <tr>\n",
       "      <th>84</th>\n",
       "      <td>4</td>\n",
       "      <td>12.5</td>\n",
       "      <td>1.26</td>\n",
       "      <td>500</td>\n",
       "      <td>2</td>\n",
       "    </tr>\n",
       "    <tr>\n",
       "      <th>10</th>\n",
       "      <td>4</td>\n",
       "      <td>15.6</td>\n",
       "      <td>2.18</td>\n",
       "      <td>128</td>\n",
       "      <td>2</td>\n",
       "    </tr>\n",
       "    <tr>\n",
       "      <th>342</th>\n",
       "      <td>16</td>\n",
       "      <td>13.3</td>\n",
       "      <td>0.81</td>\n",
       "      <td>256</td>\n",
       "      <td>2</td>\n",
       "    </tr>\n",
       "    <tr>\n",
       "      <th>890</th>\n",
       "      <td>4</td>\n",
       "      <td>14.0</td>\n",
       "      <td>1.40</td>\n",
       "      <td>32</td>\n",
       "      <td>2</td>\n",
       "    </tr>\n",
       "    <tr>\n",
       "      <th>...</th>\n",
       "      <td>...</td>\n",
       "      <td>...</td>\n",
       "      <td>...</td>\n",
       "      <td>...</td>\n",
       "      <td>...</td>\n",
       "    </tr>\n",
       "    <tr>\n",
       "      <th>106</th>\n",
       "      <td>8</td>\n",
       "      <td>14.0</td>\n",
       "      <td>1.90</td>\n",
       "      <td>256</td>\n",
       "      <td>2</td>\n",
       "    </tr>\n",
       "    <tr>\n",
       "      <th>270</th>\n",
       "      <td>16</td>\n",
       "      <td>15.6</td>\n",
       "      <td>1.93</td>\n",
       "      <td>512</td>\n",
       "      <td>2</td>\n",
       "    </tr>\n",
       "    <tr>\n",
       "      <th>860</th>\n",
       "      <td>16</td>\n",
       "      <td>15.6</td>\n",
       "      <td>2.65</td>\n",
       "      <td>128</td>\n",
       "      <td>2</td>\n",
       "    </tr>\n",
       "    <tr>\n",
       "      <th>435</th>\n",
       "      <td>8</td>\n",
       "      <td>13.3</td>\n",
       "      <td>0.81</td>\n",
       "      <td>256</td>\n",
       "      <td>2</td>\n",
       "    </tr>\n",
       "    <tr>\n",
       "      <th>102</th>\n",
       "      <td>6</td>\n",
       "      <td>13.3</td>\n",
       "      <td>1.50</td>\n",
       "      <td>1</td>\n",
       "      <td>2</td>\n",
       "    </tr>\n",
       "  </tbody>\n",
       "</table>\n",
       "<p>729 rows × 5 columns</p>\n",
       "</div>"
      ],
      "text/plain": [
       "     Ram  Inches  Weight  Memory  OpSys\n",
       "25     8    14.0    1.60     256      2\n",
       "84     4    12.5    1.26     500      2\n",
       "10     4    15.6    2.18     128      2\n",
       "342   16    13.3    0.81     256      2\n",
       "890    4    14.0    1.40      32      2\n",
       "..   ...     ...     ...     ...    ...\n",
       "106    8    14.0    1.90     256      2\n",
       "270   16    15.6    1.93     512      2\n",
       "860   16    15.6    2.65     128      2\n",
       "435    8    13.3    0.81     256      2\n",
       "102    6    13.3    1.50       1      2\n",
       "\n",
       "[729 rows x 5 columns]"
      ]
     },
     "execution_count": 32,
     "metadata": {},
     "output_type": "execute_result"
    }
   ],
   "source": [
    "X_train"
   ]
  },
  {
   "cell_type": "code",
   "execution_count": 33,
   "metadata": {},
   "outputs": [
    {
     "data": {
      "image/png": "[encoded data removed]",
      "text/plain": [
       "<Figure size 432x288 with 2 Axes>"
      ]
     },
     "metadata": {},
     "output_type": "display_data"
    }
   ],
   "source": [
    "sns.heatmap(train2.corr(), annot=True);"
   ]
  },
  {
   "cell_type": "markdown",
   "metadata": {},
   "source": [
    "### 3. Asignar el modelo (vacío) a una variable\n"
   ]
  },
  {
   "cell_type": "code",
   "execution_count": 34,
   "metadata": {},
   "outputs": [],
   "source": [
    "train_model = LinearRegression()"
   ]
  },
  {
   "cell_type": "code",
   "execution_count": 35,
   "metadata": {},
   "outputs": [
    {
     "data": {
      "text/plain": [
       "LinearRegression()"
      ]
     },
     "execution_count": 35,
     "metadata": {},
     "output_type": "execute_result"
    }
   ],
   "source": [
    "train_model.fit(X_train, y_train)"
   ]
  },
  {
   "cell_type": "code",
   "execution_count": 36,
   "metadata": {},
   "outputs": [
    {
     "data": {
      "text/plain": [
       "array([ 799.70006851, 1751.43417967, 1140.60905711, 1136.11590976,\n",
       "       1215.9241614 ,  712.98750915, 2011.06499911, 1152.22238524,\n",
       "       1301.12414271, 1042.49381694,  678.14746938, 1034.41390476,\n",
       "        789.30053394,  958.31159824, 1046.49159866,  766.07384999,\n",
       "        880.21816076, 1861.21515161, 1075.17671973, 7160.74325428,\n",
       "        960.03911798, 1479.06730072,  547.53884026,  295.09452885,\n",
       "        904.57561667, 1054.7731261 , 1204.17332142, 1041.38190164,\n",
       "       1162.72880606,  810.20455227, 1087.8352557 , 1236.58482927,\n",
       "       1052.99524362,  886.30890845,  479.2767205 , 1059.67915688,\n",
       "       1131.47056466,  789.30053394,  515.84425232,  789.30053394,\n",
       "        911.85825803,  467.66339237, 1057.64057487, 1101.12369993,\n",
       "        749.81517676, 1047.18857955, 1185.38732277, 1096.47836867,\n",
       "       1159.34257987,  770.71918124,  549.52294543,  874.65777648,\n",
       "        891.83148889,  695.30725644, 1076.22192757,  573.31778278,\n",
       "       2211.65390717, 2166.82035955,  882.7210115 , 1062.24812997,\n",
       "       1126.67304951, 2166.82035955,  958.31159824, 1052.99524362,\n",
       "        561.650043  , 2189.51387404,  777.68717812,  467.66339237,\n",
       "       1897.88244985,  784.81613854, 1132.47971357,  465.34072674,\n",
       "        975.13645839, 1076.22192757,  608.80037796, 1892.57116526,\n",
       "       1076.22192757,  407.23622686,  757.66043668, 2164.45990393,\n",
       "        613.44570921, 2261.19278214,  933.29064559,  909.49778856,\n",
       "        846.71965276, 1087.8352557 ,  888.866157  ,  456.05003655,\n",
       "       1128.99571513, 1158.48820669,  453.72737092, 1088.34902514,\n",
       "        671.1794725 ,  613.44570921, 2201.12720217, 1051.78450713,\n",
       "        629.70439628, 1951.55288664,  956.51732954, 1235.52934891,\n",
       "       1150.05191736, 1964.61165889, 1133.64104638, 1245.09248136,\n",
       "       1299.23111123, 1999.45167098, 1072.73792913, 3869.1000656 ,\n",
       "       2238.28989372, 2092.32060295, 1832.11775859, 1111.09972965,\n",
       "        911.85825803, 1094.1556892 , 1783.98930228, 1071.57659632,\n",
       "        520.67596012,  465.3029229 ,  802.07519489, 1005.33113923,\n",
       "        915.34225647,  911.85825803,  897.92223658, 1160.35172878,\n",
       "        577.16028069, 2147.55365348, 1292.2539839 , 2054.23904222,\n",
       "       1080.22468958, 1088.34902514, 1113.89837472, 1136.11590976,\n",
       "        930.02660258,  893.27690533,  914.71128706, 3038.26606427,\n",
       "        549.52294543, 1381.95622916, 1168.02833407,  598.34836879,\n",
       "        931.08414645,  753.84448476,  777.68717812, 1927.41117734,\n",
       "        427.01670237,  993.71781109,  911.85825803, 1264.56269693,\n",
       "       1335.64037311, 3704.73639605,  467.66339237, 1942.49690408,\n",
       "        901.65054832,  921.67731746, 1088.99658852,  757.94450645,\n",
       "        800.86140133, 1096.47836867,  813.0953713 , 1079.0749566 ,\n",
       "        701.0595227 ,  812.5272179 , 1126.82523341,  728.87336844,\n",
       "       1139.5999082 ,  975.13845256, 1145.25438836, 1280.06794048,\n",
       "       1052.99524362, 1108.09169681, 1062.24812997, 1111.06193966,\n",
       "       1076.22192757, 2083.16652394, 1140.60905711,  789.30053394,\n",
       "       1204.31081943, 2189.51387404, 1915.79784921, 2171.42790081,\n",
       "       1064.60857175,  958.87778516, 1168.63325622])"
      ]
     },
     "execution_count": 36,
     "metadata": {},
     "output_type": "execute_result"
    }
   ],
   "source": [
    "predictions = train_model.predict(X_test)\n",
    "predictions"
   ]
  },
  {
   "cell_type": "markdown",
   "metadata": {},
   "source": [
    "### 4. Sacar métricas, valorar el modelo \n",
    "\n",
    "Recuerda que en la competición se va a evaluar con la métrica de MAE."
   ]
  },
  {
   "cell_type": "code",
   "execution_count": 37,
   "metadata": {},
   "outputs": [
    {
     "name": "stdout",
     "output_type": "stream",
     "text": [
      "MAE: 321.3836384755095\n"
     ]
    }
   ],
   "source": [
    "print('MAE:', mean_absolute_error(y_test, predictions))"
   ]
  },
  {
   "cell_type": "code",
   "execution_count": 38,
   "metadata": {},
   "outputs": [
    {
     "data": {
      "text/plain": [
       "LinearRegression()"
      ]
     },
     "execution_count": 38,
     "metadata": {},
     "output_type": "execute_result"
    }
   ],
   "source": [
    "train_model.fit(X,y)"
   ]
  },
  {
   "cell_type": "code",
   "execution_count": 39,
   "metadata": {},
   "outputs": [
    {
     "name": "stdout",
     "output_type": "stream",
     "text": [
      "649     265.00\n",
      "761    1059.00\n",
      "545    1474.00\n",
      "367    1579.00\n",
      "361    1760.00\n",
      "        ...   \n",
      "344    2122.00\n",
      "581    1249.26\n",
      "872    1144.50\n",
      "449     945.00\n",
      "789    1799.00\n",
      "Name: Price_euros, Length: 183, dtype: float64\n"
     ]
    }
   ],
   "source": [
    "print(y_test)"
   ]
  },
  {
   "cell_type": "markdown",
   "metadata": {},
   "source": [
    "-----------------------------------------------------------------"
   ]
  },
  {
   "cell_type": "markdown",
   "metadata": {},
   "source": [
    "## Una vez listo el modelo, toca predecir con el dataset de predicción "
   ]
  },
  {
   "cell_type": "markdown",
   "metadata": {},
   "source": [
    "Definición de **modelo que está listo**. \n",
    "\n",
    "Tras hacer suficientes pruebas, analizar los datos, hacer feature engineering, probar diferentes modelos con diferentes parámetros, es con este con el que observo mejores métricas y menos overfitting. ¡Cuidado con el overfitting aquí! Si vuestro modelo aprende muy bien de estos datos pero hay overfitting cuando le pasemos los datos desconocidos de `test.csv` nos arriesgamos a que digamos, no salga lo esperado."
   ]
  },
  {
   "cell_type": "markdown",
   "metadata": {},
   "source": [
    "### 1. Entrena dicho modelo con TODOS tus datos de train, esto es con `train.csv` al completo.\n",
    "\n",
    "\n",
    "**CON LAS TRANSFORMACIONES QUE LE HAYAS REALIZADO A `X` INCLUÍDAS.**\n",
    "\n",
    "\n",
    "Véase:\n",
    "- Estandarización/Normalización\n",
    "- Eliminación de Outliers\n",
    "- Eliminación de columnas\n",
    "- Creación de columnas nuevas\n",
    "- Gestión de valores nulos\n",
    "- Y un largo etcétera de técnicas que como Data Scientist hayas considerado las mejores para tu dataset."
   ]
  },
  {
   "cell_type": "code",
   "execution_count": null,
   "metadata": {},
   "outputs": [],
   "source": []
  },
  {
   "cell_type": "markdown",
   "metadata": {},
   "source": [
    "### 2. Carga los datos de `test.csv` para predecir."
   ]
  },
  {
   "cell_type": "code",
   "execution_count": 40,
   "metadata": {},
   "outputs": [
    {
     "data": {
      "text/html": [
       "<div>\n",
       "<style scoped>\n",
       "    .dataframe tbody tr th:only-of-type {\n",
       "        vertical-align: middle;\n",
       "    }\n",
       "\n",
       "    .dataframe tbody tr th {\n",
       "        vertical-align: top;\n",
       "    }\n",
       "\n",
       "    .dataframe thead th {\n",
       "        text-align: right;\n",
       "    }\n",
       "</style>\n",
       "<table border=\"1\" class=\"dataframe\">\n",
       "  <thead>\n",
       "    <tr style=\"text-align: right;\">\n",
       "      <th></th>\n",
       "      <th>Company</th>\n",
       "      <th>Product</th>\n",
       "      <th>TypeName</th>\n",
       "      <th>Inches</th>\n",
       "      <th>ScreenResolution</th>\n",
       "      <th>Cpu</th>\n",
       "      <th>Ram</th>\n",
       "      <th>Memory</th>\n",
       "      <th>Gpu</th>\n",
       "      <th>OpSys</th>\n",
       "      <th>Weight</th>\n",
       "    </tr>\n",
       "    <tr>\n",
       "      <th>id</th>\n",
       "      <th></th>\n",
       "      <th></th>\n",
       "      <th></th>\n",
       "      <th></th>\n",
       "      <th></th>\n",
       "      <th></th>\n",
       "      <th></th>\n",
       "      <th></th>\n",
       "      <th></th>\n",
       "      <th></th>\n",
       "      <th></th>\n",
       "    </tr>\n",
       "  </thead>\n",
       "  <tbody>\n",
       "    <tr>\n",
       "      <th>1184</th>\n",
       "      <td>HP</td>\n",
       "      <td>Pavilion 15-BC000nv</td>\n",
       "      <td>Notebook</td>\n",
       "      <td>15.6</td>\n",
       "      <td>IPS Panel Full HD 1920x1080</td>\n",
       "      <td>Intel Core i7 6700HQ 2.6GHz</td>\n",
       "      <td>6GB</td>\n",
       "      <td>1TB HDD</td>\n",
       "      <td>Nvidia GeForce GTX 960M</td>\n",
       "      <td>Windows 10</td>\n",
       "      <td>2.18kg</td>\n",
       "    </tr>\n",
       "    <tr>\n",
       "      <th>815</th>\n",
       "      <td>Lenovo</td>\n",
       "      <td>Thinkpad T470s</td>\n",
       "      <td>Ultrabook</td>\n",
       "      <td>14.0</td>\n",
       "      <td>Full HD 1920x1080</td>\n",
       "      <td>Intel Core i7 7500U 2.7GHz</td>\n",
       "      <td>8GB</td>\n",
       "      <td>256GB SSD</td>\n",
       "      <td>Intel HD Graphics 620</td>\n",
       "      <td>Windows 10</td>\n",
       "      <td>1.32kg</td>\n",
       "    </tr>\n",
       "    <tr>\n",
       "      <th>1244</th>\n",
       "      <td>HP</td>\n",
       "      <td>EliteBook 840</td>\n",
       "      <td>Notebook</td>\n",
       "      <td>14.0</td>\n",
       "      <td>Full HD 1920x1080</td>\n",
       "      <td>Intel Core i5 6200U 2.3GHz</td>\n",
       "      <td>4GB</td>\n",
       "      <td>256GB SSD</td>\n",
       "      <td>Intel HD Graphics 520</td>\n",
       "      <td>Windows 7</td>\n",
       "      <td>1.54kg</td>\n",
       "    </tr>\n",
       "    <tr>\n",
       "      <th>1121</th>\n",
       "      <td>HP</td>\n",
       "      <td>Spectre Pro</td>\n",
       "      <td>Notebook</td>\n",
       "      <td>13.3</td>\n",
       "      <td>Full HD 1920x1080</td>\n",
       "      <td>Intel Core i5 6200U 2.3GHz</td>\n",
       "      <td>8GB</td>\n",
       "      <td>256GB SSD</td>\n",
       "      <td>Intel HD Graphics 520</td>\n",
       "      <td>Windows 10</td>\n",
       "      <td>1.16kg</td>\n",
       "    </tr>\n",
       "    <tr>\n",
       "      <th>443</th>\n",
       "      <td>Lenovo</td>\n",
       "      <td>IdeaPad 320-15IAP</td>\n",
       "      <td>Notebook</td>\n",
       "      <td>15.6</td>\n",
       "      <td>Full HD 1920x1080</td>\n",
       "      <td>Intel Pentium Quad Core N4200 1.1GHz</td>\n",
       "      <td>4GB</td>\n",
       "      <td>128GB SSD</td>\n",
       "      <td>Intel HD Graphics 505</td>\n",
       "      <td>Windows 10</td>\n",
       "      <td>2.2kg</td>\n",
       "    </tr>\n",
       "  </tbody>\n",
       "</table>\n",
       "</div>"
      ],
      "text/plain": [
       "     Company              Product   TypeName  Inches  \\\n",
       "id                                                     \n",
       "1184      HP  Pavilion 15-BC000nv   Notebook    15.6   \n",
       "815   Lenovo       Thinkpad T470s  Ultrabook    14.0   \n",
       "1244      HP        EliteBook 840   Notebook    14.0   \n",
       "1121      HP          Spectre Pro   Notebook    13.3   \n",
       "443   Lenovo    IdeaPad 320-15IAP   Notebook    15.6   \n",
       "\n",
       "                 ScreenResolution                                   Cpu  Ram  \\\n",
       "id                                                                             \n",
       "1184  IPS Panel Full HD 1920x1080           Intel Core i7 6700HQ 2.6GHz  6GB   \n",
       "815             Full HD 1920x1080            Intel Core i7 7500U 2.7GHz  8GB   \n",
       "1244            Full HD 1920x1080            Intel Core i5 6200U 2.3GHz  4GB   \n",
       "1121            Full HD 1920x1080            Intel Core i5 6200U 2.3GHz  8GB   \n",
       "443             Full HD 1920x1080  Intel Pentium Quad Core N4200 1.1GHz  4GB   \n",
       "\n",
       "         Memory                      Gpu       OpSys  Weight  \n",
       "id                                                            \n",
       "1184    1TB HDD  Nvidia GeForce GTX 960M  Windows 10  2.18kg  \n",
       "815   256GB SSD    Intel HD Graphics 620  Windows 10  1.32kg  \n",
       "1244  256GB SSD    Intel HD Graphics 520   Windows 7  1.54kg  \n",
       "1121  256GB SSD    Intel HD Graphics 520  Windows 10  1.16kg  \n",
       "443   128GB SSD    Intel HD Graphics 505  Windows 10   2.2kg  "
      ]
     },
     "execution_count": 40,
     "metadata": {},
     "output_type": "execute_result"
    }
   ],
   "source": [
    "X_pred = pd.read_csv(\"test.csv\", index_col = 0)\n",
    "X_pred.head()"
   ]
  },
  {
   "cell_type": "code",
   "execution_count": 41,
   "metadata": {},
   "outputs": [
    {
     "data": {
      "text/plain": [
       "(391, 11)"
      ]
     },
     "execution_count": 41,
     "metadata": {},
     "output_type": "execute_result"
    }
   ],
   "source": [
    "X_pred.shape"
   ]
  },
  {
   "cell_type": "markdown",
   "metadata": {},
   "source": [
    "**¿Por qué da error?** "
   ]
  },
  {
   "cell_type": "markdown",
   "metadata": {},
   "source": [
    "IMPORTANTE: APLICAR LO MISMO A ESTOS DATOS QUE HAYÁIS APLICADO A LOS DATOS DE ENTRENAMIENTO\n",
    "\n",
    "- SI EL ARRAY CON EL QUE HICISTEIS `.fit()` ERA DE 4 COLUMNAS, PARA `.predict()` DEBEN SER LAS MISMAS\n",
    "- SI AL ARRAY CON EL QUE HICISTEIS `.fit()` LO NORMALIZASTEIS, PARA `.predict()` DEBÉIS NORMALIZARLO\n",
    "- TODO IGUAL SALVO BORRAR FILAS, EL NÚMERO DE ROWS SE DEBE MANTENER EN ESTE SET, PUES LA PREDICCIÓN DEBE TENER 391 FILAS, SI O SI"
   ]
  },
  {
   "cell_type": "markdown",
   "metadata": {},
   "source": [
    "**Entonces, si al cargar los datos de train usé `index_col=0` para que utilizara la primera columna del conjunto de datos como índice, ¿tendré que hacerlo también para el conjunto `test.csv`?**"
   ]
  },
  {
   "cell_type": "code",
   "execution_count": 42,
   "metadata": {},
   "outputs": [],
   "source": [
    "# ¿Qué opináis?\n",
    "# Sí"
   ]
  },
  {
   "cell_type": "markdown",
   "metadata": {},
   "source": [
    "![](https://www.tierraljelechu.com/web/img/wiki_up/1.996-SorpresaDto.-1-Red.jpg)"
   ]
  },
  {
   "cell_type": "code",
   "execution_count": 64,
   "metadata": {},
   "outputs": [
    {
     "data": {
      "text/html": [
       "<div>\n",
       "<style scoped>\n",
       "    .dataframe tbody tr th:only-of-type {\n",
       "        vertical-align: middle;\n",
       "    }\n",
       "\n",
       "    .dataframe tbody tr th {\n",
       "        vertical-align: top;\n",
       "    }\n",
       "\n",
       "    .dataframe thead th {\n",
       "        text-align: right;\n",
       "    }\n",
       "</style>\n",
       "<table border=\"1\" class=\"dataframe\">\n",
       "  <thead>\n",
       "    <tr style=\"text-align: right;\">\n",
       "      <th></th>\n",
       "      <th>Company</th>\n",
       "      <th>Product</th>\n",
       "      <th>TypeName</th>\n",
       "      <th>Inches</th>\n",
       "      <th>ScreenResolution</th>\n",
       "      <th>Cpu</th>\n",
       "      <th>Ram</th>\n",
       "      <th>Memory</th>\n",
       "      <th>Gpu</th>\n",
       "      <th>OpSys</th>\n",
       "      <th>Weight</th>\n",
       "    </tr>\n",
       "    <tr>\n",
       "      <th>id</th>\n",
       "      <th></th>\n",
       "      <th></th>\n",
       "      <th></th>\n",
       "      <th></th>\n",
       "      <th></th>\n",
       "      <th></th>\n",
       "      <th></th>\n",
       "      <th></th>\n",
       "      <th></th>\n",
       "      <th></th>\n",
       "      <th></th>\n",
       "    </tr>\n",
       "  </thead>\n",
       "  <tbody>\n",
       "    <tr>\n",
       "      <th>1184</th>\n",
       "      <td>HP</td>\n",
       "      <td>Pavilion 15-BC000nv</td>\n",
       "      <td>Notebook</td>\n",
       "      <td>15.6</td>\n",
       "      <td>IPS Panel Full HD 1920x1080</td>\n",
       "      <td>Intel Core i7 6700HQ 2.6GHz</td>\n",
       "      <td>6GB</td>\n",
       "      <td>1TB HDD</td>\n",
       "      <td>Nvidia GeForce GTX 960M</td>\n",
       "      <td>Windows 10</td>\n",
       "      <td>2.18kg</td>\n",
       "    </tr>\n",
       "    <tr>\n",
       "      <th>815</th>\n",
       "      <td>Lenovo</td>\n",
       "      <td>Thinkpad T470s</td>\n",
       "      <td>Ultrabook</td>\n",
       "      <td>14.0</td>\n",
       "      <td>Full HD 1920x1080</td>\n",
       "      <td>Intel Core i7 7500U 2.7GHz</td>\n",
       "      <td>8GB</td>\n",
       "      <td>256GB SSD</td>\n",
       "      <td>Intel HD Graphics 620</td>\n",
       "      <td>Windows 10</td>\n",
       "      <td>1.32kg</td>\n",
       "    </tr>\n",
       "    <tr>\n",
       "      <th>1244</th>\n",
       "      <td>HP</td>\n",
       "      <td>EliteBook 840</td>\n",
       "      <td>Notebook</td>\n",
       "      <td>14.0</td>\n",
       "      <td>Full HD 1920x1080</td>\n",
       "      <td>Intel Core i5 6200U 2.3GHz</td>\n",
       "      <td>4GB</td>\n",
       "      <td>256GB SSD</td>\n",
       "      <td>Intel HD Graphics 520</td>\n",
       "      <td>Windows 7</td>\n",
       "      <td>1.54kg</td>\n",
       "    </tr>\n",
       "    <tr>\n",
       "      <th>1121</th>\n",
       "      <td>HP</td>\n",
       "      <td>Spectre Pro</td>\n",
       "      <td>Notebook</td>\n",
       "      <td>13.3</td>\n",
       "      <td>Full HD 1920x1080</td>\n",
       "      <td>Intel Core i5 6200U 2.3GHz</td>\n",
       "      <td>8GB</td>\n",
       "      <td>256GB SSD</td>\n",
       "      <td>Intel HD Graphics 520</td>\n",
       "      <td>Windows 10</td>\n",
       "      <td>1.16kg</td>\n",
       "    </tr>\n",
       "    <tr>\n",
       "      <th>443</th>\n",
       "      <td>Lenovo</td>\n",
       "      <td>IdeaPad 320-15IAP</td>\n",
       "      <td>Notebook</td>\n",
       "      <td>15.6</td>\n",
       "      <td>Full HD 1920x1080</td>\n",
       "      <td>Intel Pentium Quad Core N4200 1.1GHz</td>\n",
       "      <td>4GB</td>\n",
       "      <td>128GB SSD</td>\n",
       "      <td>Intel HD Graphics 505</td>\n",
       "      <td>Windows 10</td>\n",
       "      <td>2.2kg</td>\n",
       "    </tr>\n",
       "  </tbody>\n",
       "</table>\n",
       "</div>"
      ],
      "text/plain": [
       "     Company              Product   TypeName  Inches  \\\n",
       "id                                                     \n",
       "1184      HP  Pavilion 15-BC000nv   Notebook    15.6   \n",
       "815   Lenovo       Thinkpad T470s  Ultrabook    14.0   \n",
       "1244      HP        EliteBook 840   Notebook    14.0   \n",
       "1121      HP          Spectre Pro   Notebook    13.3   \n",
       "443   Lenovo    IdeaPad 320-15IAP   Notebook    15.6   \n",
       "\n",
       "                 ScreenResolution                                   Cpu  Ram  \\\n",
       "id                                                                             \n",
       "1184  IPS Panel Full HD 1920x1080           Intel Core i7 6700HQ 2.6GHz  6GB   \n",
       "815             Full HD 1920x1080            Intel Core i7 7500U 2.7GHz  8GB   \n",
       "1244            Full HD 1920x1080            Intel Core i5 6200U 2.3GHz  4GB   \n",
       "1121            Full HD 1920x1080            Intel Core i5 6200U 2.3GHz  8GB   \n",
       "443             Full HD 1920x1080  Intel Pentium Quad Core N4200 1.1GHz  4GB   \n",
       "\n",
       "         Memory                      Gpu       OpSys  Weight  \n",
       "id                                                            \n",
       "1184    1TB HDD  Nvidia GeForce GTX 960M  Windows 10  2.18kg  \n",
       "815   256GB SSD    Intel HD Graphics 620  Windows 10  1.32kg  \n",
       "1244  256GB SSD    Intel HD Graphics 520   Windows 7  1.54kg  \n",
       "1121  256GB SSD    Intel HD Graphics 520  Windows 10  1.16kg  \n",
       "443   128GB SSD    Intel HD Graphics 505  Windows 10   2.2kg  "
      ]
     },
     "execution_count": 64,
     "metadata": {},
     "output_type": "execute_result"
    }
   ],
   "source": [
    "testpd = pd.read_csv(\"test.csv\", index_col=0)\n",
    "testpd.head()"
   ]
  },
  {
   "cell_type": "code",
   "execution_count": 65,
   "metadata": {},
   "outputs": [],
   "source": [
    "testpd['Weight'] = testpd['Weight'].str.replace('kg','')\n",
    "testpd['Ram'] = testpd['Ram'].str.replace('GB','')"
   ]
  },
  {
   "cell_type": "code",
   "execution_count": 66,
   "metadata": {},
   "outputs": [],
   "source": [
    "testpd['Ram'] = testpd['Ram'].astype('int32')\n",
    "testpd['Weight'] = testpd['Weight'].astype('float32')"
   ]
  },
  {
   "cell_type": "code",
   "execution_count": 67,
   "metadata": {},
   "outputs": [],
   "source": [
    "testpd['Memory'] = testpd['Memory'].str.replace(\"TB HDD\",\"\")\n",
    "testpd['Memory'] = testpd['Memory'].str.replace(\"GB SSD\",\"\")\n",
    "testpd['Memory'] = testpd['Memory'].str.replace(\"GB HDD\",\"\")\n",
    "testpd['Memory'] = testpd['Memory'].str.replace(\"GB Flash Storage\",\"\")\n",
    "testpd['Memory'] = testpd['Memory'].str.replace(\"TB Hybrid\",\"\")\n",
    "testpd['Memory'] = testpd['Memory'].str.replace(\"GB Hybrid\",\"\")\n",
    "testpd['Memory'] = testpd['Memory'].str.replace(\"TB SSD\",\"\")\n",
    "testpd['Memory'] = testpd['Memory'].str.replace('128 +  1','128', regex=False)\n",
    "testpd['Memory'] = testpd['Memory'].str.replace(\"256 +  1\",\"256\", regex=False)\n",
    "testpd['Memory'] = testpd['Memory'].str.replace(\"512 +  1\",\"8\", regex=False)\n",
    "testpd['Memory'] = testpd['Memory'].str.replace(\"256 +  2\",\"256\", regex=False)\n",
    "testpd['Memory'] = testpd['Memory'].str.replace(\"1 +  1\",\"1\", regex=False)\n",
    "testpd['Memory'] = testpd['Memory'].str.replace(\"512 +  2\",\"512\", regex=False)\n",
    "testpd['Memory'] = testpd['Memory'].str.replace(\"128 +  2\",\"128\", regex=False)\n",
    "testpd['Memory'] = testpd['Memory'].str.replace(\"64 +  1\",\"64\", regex=False)\n",
    "testpd['Memory'] = testpd['Memory'].str.replace(\"512 +  1.0\",\"512\", regex=False)\n",
    "testpd['Memory'] = testpd['Memory'].str.replace(\"512 +  256\",\"512\", regex=False)\n",
    "testpd['Memory'] = testpd['Memory'].str.replace(\"256 +  500\",\"512\", regex=False)\n",
    "testpd['Memory'] = testpd['Memory'].str.replace(\"51256\",\"512\", regex=False)\n",
    "testpd['Memory'] = testpd['Memory'].str.replace(\"1.0\",\"1\", regex=False)\n",
    "testpd['Memory'] = testpd['Memory'].str.replace(\"8.0\",\"8\", regex=False)\n",
    "testpd['Memory'] = testpd['Memory'].str.replace(\"512 +  512\",\"512\", regex=False)\n",
    "testpd['Memory'] = testpd['Memory'].str.replace(\"25656\",\"256\", regex=False)\n",
    "testpd['Memory'] = testpd['Memory'].str.replace(\"256.0\",\"256\", regex=False)"
   ]
  },
  {
   "cell_type": "code",
   "execution_count": 68,
   "metadata": {},
   "outputs": [
    {
     "data": {
      "text/plain": [
       "array(['1', '256', '128', '500', '8', '32', '64', '512', '180', '2', '16',\n",
       "       '240'], dtype=object)"
      ]
     },
     "execution_count": 68,
     "metadata": {},
     "output_type": "execute_result"
    }
   ],
   "source": [
    "testpd['Memory'].unique()\n"
   ]
  },
  {
   "cell_type": "code",
   "execution_count": 69,
   "metadata": {},
   "outputs": [],
   "source": [
    "testpd['Memory'] = testpd['Memory'].astype('int32')"
   ]
  },
  {
   "cell_type": "code",
   "execution_count": 70,
   "metadata": {},
   "outputs": [
    {
     "data": {
      "text/plain": [
       "array(['Windows 10', 'Windows 7', 'Linux', 'No OS', 'Android', 'Mac OS X',\n",
       "       'Chrome OS', 'macOS', 'Windows 10 S'], dtype=object)"
      ]
     },
     "execution_count": 70,
     "metadata": {},
     "output_type": "execute_result"
    }
   ],
   "source": [
    "testpd['OpSys'].unique()"
   ]
  },
  {
   "cell_type": "code",
   "execution_count": 76,
   "metadata": {},
   "outputs": [],
   "source": [
    "mymap = {'Linux':1, 'Windows 10':2, 'Windows 10 S':3, 'No OS':4, 'Windows 7':5,\n",
    "       'Chrome OS':6, 'macOS':7, 'Mac OS X':8, 'Android':9}"
   ]
  },
  {
   "cell_type": "code",
   "execution_count": 77,
   "metadata": {},
   "outputs": [],
   "source": [
    "testpd2 = testpd.applymap(lambda s: mymap.get(s) if s in mymap else s)"
   ]
  },
  {
   "cell_type": "code",
   "execution_count": 85,
   "metadata": {},
   "outputs": [
    {
     "data": {
      "text/plain": [
       "2    314\n",
       "4     26\n",
       "1     20\n",
       "5     13\n",
       "6      9\n",
       "7      4\n",
       "9      2\n",
       "3      2\n",
       "8      1\n",
       "Name: OpSys, dtype: int64"
      ]
     },
     "execution_count": 85,
     "metadata": {},
     "output_type": "execute_result"
    }
   ],
   "source": [
    "testpd2['OpSys'].value_counts()"
   ]
  },
  {
   "cell_type": "code",
   "execution_count": 86,
   "metadata": {},
   "outputs": [
    {
     "name": "stdout",
     "output_type": "stream",
     "text": [
      "<class 'pandas.core.frame.DataFrame'>\n",
      "Int64Index: 391 entries, 1184 to 1276\n",
      "Data columns (total 11 columns):\n",
      " #   Column            Non-Null Count  Dtype  \n",
      "---  ------            --------------  -----  \n",
      " 0   Company           391 non-null    object \n",
      " 1   Product           391 non-null    object \n",
      " 2   TypeName          391 non-null    object \n",
      " 3   Inches            391 non-null    float64\n",
      " 4   ScreenResolution  391 non-null    object \n",
      " 5   Cpu               391 non-null    object \n",
      " 6   Ram               391 non-null    int64  \n",
      " 7   Memory            391 non-null    int64  \n",
      " 8   Gpu               391 non-null    object \n",
      " 9   OpSys             391 non-null    int64  \n",
      " 10  Weight            391 non-null    float64\n",
      "dtypes: float64(2), int64(3), object(6)\n",
      "memory usage: 36.7+ KB\n"
     ]
    }
   ],
   "source": [
    "testpd2.info()"
   ]
  },
  {
   "cell_type": "code",
   "execution_count": 50,
   "metadata": {},
   "outputs": [],
   "source": [
    "# testpd['real_price'] = y_test\n",
    "# testpd"
   ]
  },
  {
   "cell_type": "markdown",
   "metadata": {},
   "source": [
    "### 3. AHORA puedo hacer la predicción que será lo que subirás a Kaggle. "
   ]
  },
  {
   "cell_type": "markdown",
   "metadata": {},
   "source": [
    "**¿Qué es lo que subirás a Kaggle?**"
   ]
  },
  {
   "cell_type": "code",
   "execution_count": 87,
   "metadata": {},
   "outputs": [
    {
     "data": {
      "text/plain": [
       "(391, 5)"
      ]
     },
     "execution_count": 87,
     "metadata": {},
     "output_type": "execute_result"
    }
   ],
   "source": [
    "X = testpd2[['Ram', 'Inches', 'Weight', 'Memory', 'OpSys']]\n",
    "X.shape"
   ]
  },
  {
   "cell_type": "code",
   "execution_count": 88,
   "metadata": {},
   "outputs": [
    {
     "data": {
      "text/plain": [
       "array([ 697.87654793, 1091.96559004,  807.13357616, 1127.57300579,\n",
       "        586.68760033, 1076.20981982,  829.10557511,  548.40188786,\n",
       "        950.1202728 ,  954.88808218,  958.71667929, 1158.20156969,\n",
       "        638.17669002, 1022.6098254 , 1186.27775579, 1042.00594927,\n",
       "        884.44660707,  952.33570439, 1103.51186715,  497.01735546,\n",
       "        590.68128615, 1917.93228696, 1122.59413872,  674.49143488,\n",
       "        985.85360749, 1165.98460677,  841.86749448,  457.20441382,\n",
       "       1807.39181464, 3499.38341685,  556.99829435, 1845.6775119 ,\n",
       "        893.35658417,  351.04558412, 1076.20981982, 2026.89651747,\n",
       "       1129.80978381,  813.07060112,  997.51273701, 1329.44102557,\n",
       "       1247.4144461 , 1050.6860115 , 1239.49707302,  707.20198148,\n",
       "       2124.4841045 , 1345.29495404,  988.40598527, 1879.6465897 ,\n",
       "       1030.26697398,  884.44660707,  898.46133974, 1743.01058533,\n",
       "        573.92568096,  901.28811819, 1938.66692426,  960.49491831,\n",
       "        479.15068051,  995.0217225 , 1012.40031424, 1974.08465917,\n",
       "        871.68471813,  988.40598527,  377.84556611, 2148.73172392,\n",
       "       1203.08897077,  843.44587456, 1827.07175912, 1773.95473378,\n",
       "       1037.92410735,  916.15121022, 1012.40031424, 1030.26697398,\n",
       "        599.44948928,  499.7458652 ,  728.05390669,  841.79523207,\n",
       "        829.10557511,  623.44381825,  921.7071405 , 1073.65744203,\n",
       "       1050.6860115 ,  680.16506547,  897.20852644,  573.92568096,\n",
       "       1064.14267917, 1120.04176093,  975.80918504,  998.78061557,\n",
       "        644.88803482, 1157.33638848,  999.10354921,  769.37313388,\n",
       "        916.15121022, 1293.17535984, 1114.93700535,  680.00987298,\n",
       "        497.01735546,  694.20315852, 1295.52354152,  738.74242872,\n",
       "       1135.41661994, 1828.59897307,  790.81987785, 1047.42631983,\n",
       "       1662.79569353,  888.31237523,  881.55503291,  599.44948928,\n",
       "        643.1555571 , 2029.73045047, 3699.45289148,  850.92341069,\n",
       "        905.67443754,  499.56973325,  456.1792652 ,  888.52619882,\n",
       "       1956.21798422,  467.4139554 ,  525.09354156, 1113.53491274,\n",
       "        774.78487343, 1218.0620711 , 1754.83323158,  863.00240572,\n",
       "       1890.34415363,  994.5336393 , 1828.59897307, 2029.73045047,\n",
       "       1837.14567142, 1146.71585442, 1807.39181464, 1137.78253216,\n",
       "       2139.98486722, 1279.9914967 ,  554.53182249, 1103.20026502,\n",
       "        841.58140848,  708.26219103,  838.34110377, 1106.00366787,\n",
       "        642.0052567 ,  825.27700842, 1026.69168253, 2090.15287764,\n",
       "        870.4457307 , 1181.17300021, 1183.725378  , 2863.79578425,\n",
       "       1772.93468407,  628.27284534,  713.19081466,  874.5758846 ,\n",
       "       1160.94042825, 1974.08465917, 1048.53804596, 1265.85556675,\n",
       "       1205.30016695,  576.7128515 ,  944.71577249, 1214.57468603,\n",
       "        637.4819113 , 1217.12706382,  961.60598807, 1415.64817853,\n",
       "        829.10557511, 1102.17510119,  558.77653336,  657.31953865,\n",
       "        901.28811819,  867.39130279, 1127.69890951,  746.27367359,\n",
       "        654.07238214, 1058.34314487,  674.49143488, 1110.16038471,\n",
       "       1302.3900033 , 1133.95396548,  543.29713228,  956.12924057,\n",
       "       1272.6780147 ,  461.28402077, 1139.49621168,  486.80781388,\n",
       "        875.76430987, 1122.15265044, 1937.0751508 ,  898.92842506,\n",
       "        383.92447492,  500.08773303, 1137.54625638, 2182.35015623,\n",
       "       1091.96559004, 1956.21798422, 1205.87464307, 2049.86791757,\n",
       "        912.49943279,  586.68760033, 1998.82030094,  960.49491831,\n",
       "        978.43123645, 1124.18192974, 2297.41172377,  838.16150653,\n",
       "        921.7071405 , 1001.16787422,  956.60577456, 1905.17039802,\n",
       "        599.89097755,  961.18088576,  607.60868798, 2033.52398665,\n",
       "        552.39558889,  884.44660707, 1169.68728495, 1039.45357148,\n",
       "        631.10096683,  905.11668487,  454.9030763 ,  630.25911728,\n",
       "       1372.25769527, 1830.12845242, 1772.93468407, 1132.67777659,\n",
       "       2041.21615052, 1933.24655369,  457.20441382, 2196.91134778,\n",
       "       1146.84175814,  731.96575728, 1443.72433421,  960.49491831,\n",
       "        928.91309916,  558.77653336,  914.05000713,  837.78790273,\n",
       "        777.80694863,  901.28811819,  499.56973325,  681.44125436,\n",
       "        978.43123645,  961.18088576,  954.43690748, 1132.80366508,\n",
       "       1160.94042825, 1220.54218649, 1247.75562771, 1144.16347664,\n",
       "        663.70048312, 1302.3900033 , 1308.28544567, 1110.17888241,\n",
       "        848.24843895, 1137.78253216, 1050.6860115 ,  983.96607174,\n",
       "       1132.80366508,  938.02324111,  825.27700842, 1349.01060558,\n",
       "        641.00830201,  862.78858212,  558.77653336, 1205.30016695,\n",
       "       2132.14125308, 1073.65744203, 1164.58252937,  657.31953865,\n",
       "       1359.55379123,  663.70048312,  829.10557511, 3526.5700684 ,\n",
       "       1997.59240318,  997.51273701, 2106.61744477,  829.10557511,\n",
       "       2048.03859848,  864.27859461,  957.16607453,  829.10557511,\n",
       "        497.01735546,  978.43123645,  573.92568096, 2083.77191795,\n",
       "        630.13630701, 1111.10843867,  874.48812098,  857.30435516,\n",
       "        954.88808218,  841.86749448,  645.89440045, 1204.36515966,\n",
       "        885.69943559,  857.89765014,  559.56190996, 1841.46232131,\n",
       "        901.28811819,  857.68382655, 1148.17850888,  503.22378169,\n",
       "       1001.16787422, 2068.01614773, 3373.05615666, 1171.69445393,\n",
       "        841.86749448, 1243.58587942,  867.31904039, 1820.15370359,\n",
       "       1943.89758355, 1008.82500759, 1762.46903373, 1035.37172956,\n",
       "        700.58410299,  444.44252487,  476.34727766,  802.64677472,\n",
       "        678.32000156, 1003.95504476, 3463.6501278 ,  837.78790273,\n",
       "       3293.73175289, 1477.99767239,  914.05000713, 1142.88728774,\n",
       "       2051.42569211, 1905.17039802, 1323.80392373,  640.52235708,\n",
       "       1073.65744203, 1140.46081366,  525.09354156,  939.57381545,\n",
       "        637.4819113 ,  854.62938342, 1152.65455869,  512.33162219,\n",
       "        974.08182144, 1050.6860115 ,  816.34368616, 1076.20981982,\n",
       "        650.93859418,  525.09354156, 2042.9338429 ,  803.50953481,\n",
       "       1030.26697398, 1303.18067488,  867.39130279, 1057.06695598,\n",
       "       1088.97170876,  798.47702643, 2011.58225074,  816.34368616,\n",
       "        499.56973325, 1050.6860115 ,  521.26494445,  875.35062735,\n",
       "        457.20441382, 1296.62555866, 1820.15370359,  988.40598527,\n",
       "        897.20852644, 1892.40847865, 1379.97282875,  841.86749448,\n",
       "       1842.89034136,  756.48318475,  840.2827674 , 1931.13567939,\n",
       "       1083.03225256, 1097.07034561, 1208.8519611 ,  834.28170425,\n",
       "        935.78245023, 1205.87464307,  804.74363083,  988.40598527,\n",
       "       1144.16347664, 1067.71797062, 1113.53491274,  950.1202728 ,\n",
       "        348.49319112,  465.60065545, 1030.26697398, 1363.4754948 ,\n",
       "        671.59456572, 1088.97170876,  867.39130279,  798.47702643,\n",
       "        476.34727766, 1131.52747619,  713.19081466])"
      ]
     },
     "execution_count": 88,
     "metadata": {},
     "output_type": "execute_result"
    }
   ],
   "source": [
    "predictions_submit = train_model.predict(X)\n",
    "predictions_submit"
   ]
  },
  {
   "cell_type": "markdown",
   "metadata": {},
   "source": [
    "**¡PERO! Para subir a Kaggle la predicción, ésta tendrá que tener una forma específica y no valdrá otra.**\n",
    "\n",
    "En este caso, la **MISMA** forma que `sample_submission.csv`. "
   ]
  },
  {
   "cell_type": "code",
   "execution_count": 89,
   "metadata": {},
   "outputs": [],
   "source": [
    "sample = pd.read_csv(\"sample_submission.csv\")"
   ]
  },
  {
   "cell_type": "code",
   "execution_count": 90,
   "metadata": {},
   "outputs": [
    {
     "data": {
      "text/html": [
       "<div>\n",
       "<style scoped>\n",
       "    .dataframe tbody tr th:only-of-type {\n",
       "        vertical-align: middle;\n",
       "    }\n",
       "\n",
       "    .dataframe tbody tr th {\n",
       "        vertical-align: top;\n",
       "    }\n",
       "\n",
       "    .dataframe thead th {\n",
       "        text-align: right;\n",
       "    }\n",
       "</style>\n",
       "<table border=\"1\" class=\"dataframe\">\n",
       "  <thead>\n",
       "    <tr style=\"text-align: right;\">\n",
       "      <th></th>\n",
       "      <th>id</th>\n",
       "      <th>Price_euros</th>\n",
       "    </tr>\n",
       "  </thead>\n",
       "  <tbody>\n",
       "    <tr>\n",
       "      <th>0</th>\n",
       "      <td>1184</td>\n",
       "      <td>697.876548</td>\n",
       "    </tr>\n",
       "    <tr>\n",
       "      <th>1</th>\n",
       "      <td>815</td>\n",
       "      <td>1091.965590</td>\n",
       "    </tr>\n",
       "    <tr>\n",
       "      <th>2</th>\n",
       "      <td>1244</td>\n",
       "      <td>807.133576</td>\n",
       "    </tr>\n",
       "    <tr>\n",
       "      <th>3</th>\n",
       "      <td>1121</td>\n",
       "      <td>1127.573006</td>\n",
       "    </tr>\n",
       "    <tr>\n",
       "      <th>4</th>\n",
       "      <td>443</td>\n",
       "      <td>586.687600</td>\n",
       "    </tr>\n",
       "    <tr>\n",
       "      <th>...</th>\n",
       "      <td>...</td>\n",
       "      <td>...</td>\n",
       "    </tr>\n",
       "    <tr>\n",
       "      <th>386</th>\n",
       "      <td>739</td>\n",
       "      <td>867.391303</td>\n",
       "    </tr>\n",
       "    <tr>\n",
       "      <th>387</th>\n",
       "      <td>360</td>\n",
       "      <td>798.477026</td>\n",
       "    </tr>\n",
       "    <tr>\n",
       "      <th>388</th>\n",
       "      <td>965</td>\n",
       "      <td>476.347278</td>\n",
       "    </tr>\n",
       "    <tr>\n",
       "      <th>389</th>\n",
       "      <td>82</td>\n",
       "      <td>1131.527476</td>\n",
       "    </tr>\n",
       "    <tr>\n",
       "      <th>390</th>\n",
       "      <td>1276</td>\n",
       "      <td>713.190815</td>\n",
       "    </tr>\n",
       "  </tbody>\n",
       "</table>\n",
       "<p>391 rows × 2 columns</p>\n",
       "</div>"
      ],
      "text/plain": [
       "       id  Price_euros\n",
       "0    1184   697.876548\n",
       "1     815  1091.965590\n",
       "2    1244   807.133576\n",
       "3    1121  1127.573006\n",
       "4     443   586.687600\n",
       "..    ...          ...\n",
       "386   739   867.391303\n",
       "387   360   798.477026\n",
       "388   965   476.347278\n",
       "389    82  1131.527476\n",
       "390  1276   713.190815\n",
       "\n",
       "[391 rows x 2 columns]"
      ]
     },
     "execution_count": 90,
     "metadata": {},
     "output_type": "execute_result"
    }
   ],
   "source": [
    "submission = pd.DataFrame({\"id\": sample['id'], \"Price_euros\": predictions_submit})\n",
    "submission"
   ]
  },
  {
   "cell_type": "code",
   "execution_count": 91,
   "metadata": {},
   "outputs": [
    {
     "data": {
      "text/html": [
       "<div>\n",
       "<style scoped>\n",
       "    .dataframe tbody tr th:only-of-type {\n",
       "        vertical-align: middle;\n",
       "    }\n",
       "\n",
       "    .dataframe tbody tr th {\n",
       "        vertical-align: top;\n",
       "    }\n",
       "\n",
       "    .dataframe thead th {\n",
       "        text-align: right;\n",
       "    }\n",
       "</style>\n",
       "<table border=\"1\" class=\"dataframe\">\n",
       "  <thead>\n",
       "    <tr style=\"text-align: right;\">\n",
       "      <th></th>\n",
       "      <th>id</th>\n",
       "      <th>Price_euros</th>\n",
       "    </tr>\n",
       "  </thead>\n",
       "  <tbody>\n",
       "    <tr>\n",
       "      <th>0</th>\n",
       "      <td>1184</td>\n",
       "      <td>2158</td>\n",
       "    </tr>\n",
       "    <tr>\n",
       "      <th>1</th>\n",
       "      <td>815</td>\n",
       "      <td>511</td>\n",
       "    </tr>\n",
       "    <tr>\n",
       "      <th>2</th>\n",
       "      <td>1244</td>\n",
       "      <td>5290</td>\n",
       "    </tr>\n",
       "    <tr>\n",
       "      <th>3</th>\n",
       "      <td>1121</td>\n",
       "      <td>622</td>\n",
       "    </tr>\n",
       "    <tr>\n",
       "      <th>4</th>\n",
       "      <td>443</td>\n",
       "      <td>1140</td>\n",
       "    </tr>\n",
       "  </tbody>\n",
       "</table>\n",
       "</div>"
      ],
      "text/plain": [
       "     id  Price_euros\n",
       "0  1184         2158\n",
       "1   815          511\n",
       "2  1244         5290\n",
       "3  1121          622\n",
       "4   443         1140"
      ]
     },
     "execution_count": 91,
     "metadata": {},
     "output_type": "execute_result"
    }
   ],
   "source": [
    "sample.head()"
   ]
  },
  {
   "cell_type": "code",
   "execution_count": 92,
   "metadata": {},
   "outputs": [
    {
     "data": {
      "text/plain": [
       "(391, 2)"
      ]
     },
     "execution_count": 92,
     "metadata": {},
     "output_type": "execute_result"
    }
   ],
   "source": [
    "sample.shape"
   ]
  },
  {
   "cell_type": "markdown",
   "metadata": {},
   "source": [
    "### 4. Mete tus predicciones en un dataframe. \n",
    "\n",
    "En este caso, la **MISMA** forma que `sample_submission.csv`. "
   ]
  },
  {
   "cell_type": "code",
   "execution_count": null,
   "metadata": {},
   "outputs": [],
   "source": [
    "# submission = pd.DataFrame({\"id\": range(len(predictions_submit)), \"Price_euros\": predictions_submit})"
   ]
  },
  {
   "cell_type": "code",
   "execution_count": null,
   "metadata": {},
   "outputs": [],
   "source": [
    "# submission.head()"
   ]
  },
  {
   "cell_type": "code",
   "execution_count": null,
   "metadata": {},
   "outputs": [],
   "source": [
    "# submission.shape"
   ]
  },
  {
   "cell_type": "markdown",
   "metadata": {},
   "source": [
    "### 5. Pásale el CHEQUEATOR para comprobar que efectivamente está listo para subir a Kaggle."
   ]
  },
  {
   "cell_type": "code",
   "execution_count": 93,
   "metadata": {},
   "outputs": [],
   "source": [
    "def chequeator(df_to_submit):\n",
    "    \"\"\"\n",
    "    Esta función se asegura de que tu submission tenga la forma requerida por Kaggle.\n",
    "    \n",
    "    Si es así, se guardará el dataframe en un `csv` y estará listo para subir a Kaggle.\n",
    "    \n",
    "    Si no, LEE EL MENSAJE Y HAZLE CASO.\n",
    "    \n",
    "    Si aún no:\n",
    "    - apaga tu ordenador, \n",
    "    - date una vuelta, \n",
    "    - enciendelo otra vez, \n",
    "    - abre este notebook y \n",
    "    - leelo todo de nuevo. \n",
    "    Todos nos merecemos una segunda oportunidad. También tú.\n",
    "    \"\"\"\n",
    "    if df_to_submit.shape == sample.shape:\n",
    "        if df_to_submit.columns.all() == sample.columns.all():\n",
    "            if df_to_submit.id.all() == sample.id.all():\n",
    "                print(\"You're ready to submit!\")\n",
    "                submission.to_csv(\"submission.csv\", index = False) #muy importante el index = False\n",
    "                urllib.request.urlretrieve(\"https://i.kym-cdn.com/photos/images/facebook/000/747/556/27a.jpg\", \"gfg.png\")     \n",
    "                img = Image.open(\"gfg.png\")\n",
    "                img.show()   \n",
    "            else:\n",
    "                print(\"Check the ids and try again\")\n",
    "        else:\n",
    "            print(\"Check the names of the columns and try again\")\n",
    "    else:\n",
    "        print(\"Check the number of rows and/or columns and try again\")\n",
    "        print(\"\\nMensaje secreto de Clara: No me puedo creer que después de todo este notebook hayas hecho algún cambio en las filas de `diamonds_test.csv`. Lloro.\")\n"
   ]
  },
  {
   "cell_type": "code",
   "execution_count": null,
   "metadata": {},
   "outputs": [
    {
     "name": "stdout",
     "output_type": "stream",
     "text": [
      "You're ready to submit!\n"
     ]
    }
   ],
   "source": [
    "chequeator(submission)"
   ]
  },
  {
   "cell_type": "code",
   "execution_count": 94,
   "metadata": {},
   "outputs": [],
   "source": [
    "solution_3 = submission.to_csv('solution_3_hm.csv', index=False)\n"
   ]
  }
 ],
 "metadata": {
  "kernelspec": {
   "display_name": "Python 3",
   "language": "python",
   "name": "python3"
  },
  "language_info": {
   "codemirror_mode": {
    "name": "ipython",
    "version": 3
   },
   "file_extension": ".py",
   "mimetype": "text/x-python",
   "name": "python",
   "nbconvert_exporter": "python",
   "pygments_lexer": "ipython3",
   "version": "3.7.4"
  }
 },
 "nbformat": 4,
 "nbformat_minor": 4
}
